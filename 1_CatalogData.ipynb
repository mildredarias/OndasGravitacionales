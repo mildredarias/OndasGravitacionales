{
  "nbformat": 4,
  "nbformat_minor": 0,
  "metadata": {
    "kernelspec": {
      "display_name": "Python 3.6",
      "language": "python",
      "name": "python36"
    },
    "language_info": {
      "codemirror_mode": {
        "name": "ipython",
        "version": 3
      },
      "file_extension": ".py",
      "mimetype": "text/x-python",
      "name": "python",
      "nbconvert_exporter": "python",
      "pygments_lexer": "ipython3",
      "version": "3.6.6"
    },
    "colab": {
      "name": "1_CatalogData.ipynb",
      "provenance": []
    }
  },
  "cells": [
    {
      "cell_type": "markdown",
      "metadata": {
        "id": "kH8OYfyLcEi5"
      },
      "source": [
        "## 1. PyCBC Tutorial: Accessing the Catalog of Binary Mergers and LIGO/Virgo Open Data\n",
        "\n",
        "We will be using the [PyCBC](http://github.com/ligo-cbc/pycbc) library, which is used to study gravitational-wave data, find astrophysical sources due to compact binary mergers, and study their parameters. These are some of the same tools that the LIGO and Virgo collaborations use to find gravitational waves in LIGO/Virgo data \n",
        "\n",
        "In this tutorial we will walk through how to get information about the catalog of binary mergers programmatically, and also how to read in detector strain data around each event, or from the full open data set released for LIGO's first observing run.\n",
        "\n",
        "Additional [examples](http://pycbc.org/pycbc/latest/html/#library-examples-and-interactive-tutorials) and module level documentation are [here](http://pycbc.org/pycbc/latest/html/py-modindex.html)"
      ]
    },
    {
      "cell_type": "markdown",
      "metadata": {
        "id": "IRY7L1N7cEi8"
      },
      "source": [
        "#### Getting the software environment setup\n",
        "\n",
        "PyCBC is installable through pip, but also relies on portions of the [LALSuite](https://git.ligo.org/lscsoft/lalsuite) c-library. A bundled version of this suitable for use with PyCBC is also available on Mac / Linux through pip. These can be installed as follows within the notebook."
      ]
    },
    {
      "cell_type": "code",
      "metadata": {
        "id": "hrX3MSf6cEi_",
        "outputId": "f1ea46a7-ec13-46d8-82df-ca19b9c5a7f5",
        "colab": {
          "base_uri": "https://localhost:8080/"
        }
      },
      "source": [
        "import sys\n",
        "!{sys.executable} -m pip install pycbc ligo-common --no-cache-dir"
      ],
      "execution_count": 1,
      "outputs": [
        {
          "output_type": "stream",
          "text": [
            "Collecting pycbc\n",
            "  Downloading PyCBC-1.18.1-cp37-cp37m-manylinux2010_x86_64.whl (6.7 MB)\n",
            "\u001b[K     |████████████████████████████████| 6.7 MB 8.5 MB/s \n",
            "\u001b[?25hCollecting ligo-common\n",
            "  Downloading ligo_common-1.0.3-py2.py3-none-any.whl (2.0 kB)\n",
            "Requirement already satisfied: numpy!=1.19.0,>=1.16.0 in /usr/local/lib/python3.7/dist-packages (from pycbc) (1.19.5)\n",
            "Requirement already satisfied: six>=1.10.0 in /usr/local/lib/python3.7/dist-packages (from pycbc) (1.15.0)\n",
            "Collecting Mako>=1.0.1\n",
            "  Downloading Mako-1.1.4-py2.py3-none-any.whl (75 kB)\n",
            "\u001b[K     |████████████████████████████████| 75 kB 37.4 MB/s \n",
            "\u001b[?25hRequirement already satisfied: matplotlib>=1.5.1 in /usr/local/lib/python3.7/dist-packages (from pycbc) (3.2.2)\n",
            "Requirement already satisfied: pillow in /usr/local/lib/python3.7/dist-packages (from pycbc) (7.1.2)\n",
            "Requirement already satisfied: jinja2 in /usr/local/lib/python3.7/dist-packages (from pycbc) (2.11.3)\n",
            "Collecting gwdatafind\n",
            "  Downloading gwdatafind-1.0.4-py2.py3-none-any.whl (38 kB)\n",
            "Requirement already satisfied: tqdm in /usr/local/lib/python3.7/dist-packages (from pycbc) (4.41.1)\n",
            "Requirement already satisfied: requests>=1.2.1 in /usr/local/lib/python3.7/dist-packages (from pycbc) (2.23.0)\n",
            "Requirement already satisfied: scipy>=0.16.0 in /usr/local/lib/python3.7/dist-packages (from pycbc) (1.4.1)\n",
            "Collecting lalsuite\n",
            "  Downloading lalsuite-6.82-cp37-cp37m-manylinux2014_x86_64.whl (27.3 MB)\n",
            "\u001b[K     |████████████████████████████████| 27.3 MB 1.4 MB/s \n",
            "\u001b[?25hCollecting mpld3>=0.3\n",
            "  Downloading mpld3-0.5.5.tar.gz (1.0 MB)\n",
            "\u001b[K     |████████████████████████████████| 1.0 MB 40.9 MB/s \n",
            "\u001b[?25hCollecting ligo-segments\n",
            "  Downloading ligo-segments-1.3.0.tar.gz (52 kB)\n",
            "\u001b[K     |████████████████████████████████| 52 kB 30.0 MB/s \n",
            "\u001b[?25hCollecting astropy!=4.0.5,!=4.2.1,>=2.0.3\n",
            "  Downloading astropy-4.3.post1-cp37-cp37m-manylinux_2_12_x86_64.manylinux2010_x86_64.whl (10.7 MB)\n",
            "\u001b[K     |████████████████████████████████| 10.7 MB 32.2 MB/s \n",
            "\u001b[?25hCollecting lscsoft-glue>=1.59.3\n",
            "  Downloading lscsoft-glue-2.0.0.tar.gz (1.6 MB)\n",
            "\u001b[K     |████████████████████████████████| 1.6 MB 47.7 MB/s \n",
            "\u001b[?25hRequirement already satisfied: cython>=0.29 in /usr/local/lib/python3.7/dist-packages (from pycbc) (0.29.23)\n",
            "Requirement already satisfied: beautifulsoup4>=4.6.0 in /usr/local/lib/python3.7/dist-packages (from pycbc) (4.6.3)\n",
            "Requirement already satisfied: h5py>=2.5 in /usr/local/lib/python3.7/dist-packages (from pycbc) (3.1.0)\n",
            "Requirement already satisfied: decorator>=3.4.2 in /usr/local/lib/python3.7/dist-packages (from pycbc) (4.4.2)\n",
            "Requirement already satisfied: importlib-metadata in /usr/local/lib/python3.7/dist-packages (from astropy!=4.0.5,!=4.2.1,>=2.0.3->pycbc) (4.6.1)\n",
            "Requirement already satisfied: pyerfa>=1.7.3 in /usr/local/lib/python3.7/dist-packages (from astropy!=4.0.5,!=4.2.1,>=2.0.3->pycbc) (2.0.0)\n",
            "Requirement already satisfied: cached-property in /usr/local/lib/python3.7/dist-packages (from h5py>=2.5->pycbc) (1.5.2)\n",
            "Collecting pyOpenSSL\n",
            "  Downloading pyOpenSSL-20.0.1-py2.py3-none-any.whl (54 kB)\n",
            "\u001b[K     |████████████████████████████████| 54 kB 39.6 MB/s \n",
            "\u001b[?25hRequirement already satisfied: MarkupSafe>=0.9.2 in /usr/local/lib/python3.7/dist-packages (from Mako>=1.0.1->pycbc) (2.0.1)\n",
            "Requirement already satisfied: cycler>=0.10 in /usr/local/lib/python3.7/dist-packages (from matplotlib>=1.5.1->pycbc) (0.10.0)\n",
            "Requirement already satisfied: kiwisolver>=1.0.1 in /usr/local/lib/python3.7/dist-packages (from matplotlib>=1.5.1->pycbc) (1.3.1)\n",
            "Requirement already satisfied: python-dateutil>=2.1 in /usr/local/lib/python3.7/dist-packages (from matplotlib>=1.5.1->pycbc) (2.8.1)\n",
            "Requirement already satisfied: pyparsing!=2.0.4,!=2.1.2,!=2.1.6,>=2.0.1 in /usr/local/lib/python3.7/dist-packages (from matplotlib>=1.5.1->pycbc) (2.4.7)\n",
            "Requirement already satisfied: urllib3!=1.25.0,!=1.25.1,<1.26,>=1.21.1 in /usr/local/lib/python3.7/dist-packages (from requests>=1.2.1->pycbc) (1.24.3)\n",
            "Requirement already satisfied: certifi>=2017.4.17 in /usr/local/lib/python3.7/dist-packages (from requests>=1.2.1->pycbc) (2021.5.30)\n",
            "Requirement already satisfied: chardet<4,>=3.0.2 in /usr/local/lib/python3.7/dist-packages (from requests>=1.2.1->pycbc) (3.0.4)\n",
            "Requirement already satisfied: idna<3,>=2.5 in /usr/local/lib/python3.7/dist-packages (from requests>=1.2.1->pycbc) (2.10)\n",
            "Requirement already satisfied: zipp>=0.5 in /usr/local/lib/python3.7/dist-packages (from importlib-metadata->astropy!=4.0.5,!=4.2.1,>=2.0.3->pycbc) (3.5.0)\n",
            "Requirement already satisfied: typing-extensions>=3.6.4 in /usr/local/lib/python3.7/dist-packages (from importlib-metadata->astropy!=4.0.5,!=4.2.1,>=2.0.3->pycbc) (3.7.4.3)\n",
            "Collecting cryptography>=3.2\n",
            "  Downloading cryptography-3.4.7-cp36-abi3-manylinux2014_x86_64.whl (3.2 MB)\n",
            "\u001b[K     |████████████████████████████████| 3.2 MB 33.2 MB/s \n",
            "\u001b[?25hRequirement already satisfied: cffi>=1.12 in /usr/local/lib/python3.7/dist-packages (from cryptography>=3.2->pyOpenSSL->lscsoft-glue>=1.59.3->pycbc) (1.14.6)\n",
            "Requirement already satisfied: pycparser in /usr/local/lib/python3.7/dist-packages (from cffi>=1.12->cryptography>=3.2->pyOpenSSL->lscsoft-glue>=1.59.3->pycbc) (2.20)\n",
            "Building wheels for collected packages: lscsoft-glue, mpld3, ligo-segments\n",
            "  Building wheel for lscsoft-glue (setup.py) ... \u001b[?25l\u001b[?25hdone\n",
            "  Created wheel for lscsoft-glue: filename=lscsoft_glue-2.0.0-cp37-cp37m-linux_x86_64.whl size=416857 sha256=664f3f6b10cb4dd5a2f6069df16fc307fa4898821d7df5d0f4288d280c045843\n",
            "  Stored in directory: /tmp/pip-ephem-wheel-cache-yrwyn2hy/wheels/9d/ed/9e/1f9cad5e15359dc17954b893dd486760b5cb1ffd97a8405d1e\n",
            "  Building wheel for mpld3 (setup.py) ... \u001b[?25l\u001b[?25hdone\n",
            "  Created wheel for mpld3: filename=mpld3-0.5.5-py3-none-any.whl size=200909 sha256=bbb20e51c7f61ec49cf3d3183bc7967f23ca879f4b676c02df24cb89733f2b0a\n",
            "  Stored in directory: /tmp/pip-ephem-wheel-cache-yrwyn2hy/wheels/3b/f3/08/a11447ac4ea31d7603142e76b4cba9e48b2fa7d82b76b69731\n",
            "  Building wheel for ligo-segments (setup.py) ... \u001b[?25l\u001b[?25hdone\n",
            "  Created wheel for ligo-segments: filename=ligo_segments-1.3.0-cp37-cp37m-linux_x86_64.whl size=86032 sha256=67314acff5ead90671baac897b304d33998f91e982eb7c267b87461d967e5282\n",
            "  Stored in directory: /tmp/pip-ephem-wheel-cache-yrwyn2hy/wheels/b7/cc/08/d877a20dafb946a7cf821c6d1a2895f1e227a54cef891c14d8\n",
            "Successfully built lscsoft-glue mpld3 ligo-segments\n",
            "Installing collected packages: cryptography, pyOpenSSL, ligo-segments, lscsoft-glue, mpld3, Mako, lalsuite, gwdatafind, astropy, pycbc, ligo-common\n",
            "  Attempting uninstall: astropy\n",
            "    Found existing installation: astropy 4.2.1\n",
            "    Uninstalling astropy-4.2.1:\n",
            "      Successfully uninstalled astropy-4.2.1\n",
            "Successfully installed Mako-1.1.4 astropy-4.3.post1 cryptography-3.4.7 gwdatafind-1.0.4 lalsuite-6.82 ligo-common-1.0.3 ligo-segments-1.3.0 lscsoft-glue-2.0.0 mpld3-0.5.5 pyOpenSSL-20.0.1 pycbc-1.18.1\n"
          ],
          "name": "stdout"
        }
      ]
    },
    {
      "cell_type": "markdown",
      "metadata": {
        "id": "CDr8_Si9cEjA"
      },
      "source": [
        "### 1.1 Catalog of Binary Mergers\n",
        "\n",
        "PyCBC provides an [API](http://pycbc.org/pycbc/latest/html/catalog.html) to look at the catalog of binary mergers a few examples below. Some key information, such as the 'chirp' mass of a binary merge can be retrieved."
      ]
    },
    {
      "cell_type": "markdown",
      "metadata": {
        "id": "AcDrY780cEjB"
      },
      "source": [
        "#### What binary mergers are in the catalog? ####"
      ]
    },
    {
      "cell_type": "code",
      "metadata": {
        "id": "xDbTfZS-cEjB",
        "outputId": "dd31b8e5-3e15-414c-d283-34c1793fd234",
        "colab": {
          "base_uri": "https://localhost:8080/"
        }
      },
      "source": [
        "from pycbc import catalog\n",
        "\n",
        "### List the mergers in the catalog\n",
        "for merger_name in catalog.Catalog():\n",
        "    print(merger_name)"
      ],
      "execution_count": 2,
      "outputs": [
        {
          "output_type": "stream",
          "text": [
            "GW150914-v3\n",
            "GW151012-v3\n",
            "GW151226-v2\n",
            "GW170104-v2\n",
            "GW170608-v3\n",
            "GW170729-v1\n",
            "GW170809-v1\n",
            "GW170814-v3\n",
            "GW170817-v3\n",
            "GW170818-v1\n",
            "GW170823-v1\n"
          ],
          "name": "stdout"
        }
      ]
    },
    {
      "cell_type": "markdown",
      "metadata": {
        "id": "1G2ha7PscEjB"
      },
      "source": [
        "#### How can I get parameters? ####\n",
        "\n",
        "One can also retrieve some of the basic parameters of each source\n",
        "from the catalog directly as follows. Note that all parameters are given\n",
        "in the *source* frame. This means that they include the effect of redshift."
      ]
    },
    {
      "cell_type": "code",
      "metadata": {
        "id": "09FoIUxLcEjC",
        "outputId": "85dae8d9-8056-4eed-9ee0-12214c2a23a7",
        "colab": {
          "base_uri": "https://localhost:8080/"
        }
      },
      "source": [
        "# Either from the catalog as a whole\n",
        "c = catalog.Catalog()\n",
        "mchirp = c.median1d('mchirp')\n",
        "print(mchirp)\n",
        "\n",
        "# or from a specific merger\n",
        "m = catalog.Merger(\"GW170817\")\n",
        "mchirp_gw170817 = m.median1d('mchirp')\n",
        "print('GW170817: {}'.format(mchirp_gw170817))\n",
        "\n",
        "# print parameters that can be read\n",
        "print(m.data.keys())"
      ],
      "execution_count": 3,
      "outputs": [
        {
          "output_type": "stream",
          "text": [
            "[28.6   15.2    8.9   21.4    7.9   35.4   24.9   24.1    1.186 26.5\n",
            " 29.2  ]\n",
            "GW170817: 1.186\n",
            "dict_keys(['GPS', 'catalog.shortName', 'chi_eff', 'chi_eff_lower', 'chi_eff_unit', 'chi_eff_upper', 'chirp_mass', 'chirp_mass_lower', 'chirp_mass_source', 'chirp_mass_source_lower', 'chirp_mass_source_unit', 'chirp_mass_source_upper', 'chirp_mass_unit', 'chirp_mass_upper', 'commonName', 'far', 'far_lower', 'far_unit', 'far_upper', 'final_mass_source', 'final_mass_source_lower', 'final_mass_source_unit', 'final_mass_source_upper', 'jsonurl', 'luminosity_distance', 'luminosity_distance_lower', 'luminosity_distance_unit', 'luminosity_distance_upper', 'mass_1_source', 'mass_1_source_lower', 'mass_1_source_unit', 'mass_1_source_upper', 'mass_2_source', 'mass_2_source_lower', 'mass_2_source_unit', 'mass_2_source_upper', 'network_matched_filter_snr', 'network_matched_filter_snr_lower', 'network_matched_filter_snr_unit', 'network_matched_filter_snr_upper', 'redshift', 'redshift_lower', 'redshift_unit', 'redshift_upper', 'reference', 'strain', 'total_mass_source', 'total_mass_source_lower', 'total_mass_source_unit', 'total_mass_source_upper', 'version'])\n"
          ],
          "name": "stdout"
        }
      ]
    },
    {
      "cell_type": "markdown",
      "metadata": {
        "id": "DHaoXvw9cEjC"
      },
      "source": [
        "#### Transform Mass Parameters into the Detector Frame\n",
        "\n",
        "By default the above interface returns parameters in the *source* frame. Due to cosmological redshift, gravitational-waves are stretched as they travel. This causes the observed waveform to be different in the detector frame. This corresponds to an observed change in the mass parameters (for example). However, the relationship is fairly straighforward."
      ]
    },
    {
      "cell_type": "code",
      "metadata": {
        "id": "V-HTbtImcEjD",
        "outputId": "1bf26287-f2b4-4281-8b4b-43e937bb64df",
        "colab": {
          "base_uri": "https://localhost:8080/"
        }
      },
      "source": [
        "m = catalog.Merger('GW150914')\n",
        "source_mchirp = m.median1d('mchirp')\n",
        "redshift = m.median1d('redshift')\n",
        "det_mchirp = source_mchirp * (1 + redshift)\n",
        "\n",
        "print('Chirp Mass of GW150914')\n",
        "print('Source Frame: {} Solar Masses'.format(source_mchirp))\n",
        "print('Detector Frame: {} Solar Masses'.format(det_mchirp))"
      ],
      "execution_count": 4,
      "outputs": [
        {
          "output_type": "stream",
          "text": [
            "Chirp Mass of GW150914\n",
            "Source Frame: 28.6 Solar Masses\n",
            "Detector Frame: 31.174000000000003 Solar Masses\n"
          ],
          "name": "stdout"
        }
      ]
    },
    {
      "cell_type": "markdown",
      "metadata": {
        "id": "VWsBObdMcEjD"
      },
      "source": [
        "### 1.2 Accessing LIGO/Virgo data\n",
        "\n",
        "In this section, we will look into how to read detector data from the LIGO and Virgo instruments using the PyCBC API. It is possible to both get data around specific events, and also from the full data sets which have been released which cover the S5/S6/O1 LIGO observing runs. Data will be returned as [pycbc TimeSeries objects.](http://pycbc.org/pycbc/latest/html/pycbc.types.html#pycbc.types.timeseries.TimeSeries)"
      ]
    },
    {
      "cell_type": "markdown",
      "metadata": {
        "id": "noN7ZTkccEjE"
      },
      "source": [
        "#### Getting Data Around  Specific Binary Merger in the Catalog\n",
        "\n",
        "One can directly retrieve data around a specific even. Typically this data is centered on the event, though restrictions may apply which have not allowed this. This method by default gets the smallest version of the dataset. If additional data or specific versions are required, please see the following two additional ways to access data."
      ]
    },
    {
      "cell_type": "code",
      "metadata": {
        "id": "6q5-1021cEjE",
        "outputId": "bd61728d-61d7-4dd4-fc67-91b0caf9f528",
        "colab": {
          "base_uri": "https://localhost:8080/",
          "height": 307
        }
      },
      "source": [
        "%matplotlib inline\n",
        "\n",
        "import pylab\n",
        "\n",
        "m = catalog.Merger(\"GW150914\")\n",
        "\n",
        "# Get the time series data around GW150914 from Hanford\n",
        "# 'ts_han' is a pycbc.types.TimeSeries object which contains\n",
        "# gravitational-wave strain in this instance and has metadata\n",
        "# such as the start time, and sample rate.\n",
        "ts_han = m.strain('H1')\n",
        "\n",
        "# And now livingston\n",
        "ts_liv = m.strain('L1')\n",
        "\n",
        "# We can see how much data was returned and its boundaries\n",
        "# Note: All times are given in seconds since the GPS time epoch\n",
        "print(\"Duration: {}s Start: {} End: {}\".format(ts_han.duration, \n",
        "                                              int(ts_han.start_time),\n",
        "                                              int(ts_han.end_time)))\n",
        "\n",
        "# We can directly plot the time series as follows\n",
        "pylab.plot(ts_han.sample_times, ts_han)\n",
        "pylab.ylabel('Strain')\n",
        "pylab.xlabel('Time (s)')\n",
        "pylab.show()"
      ],
      "execution_count": 5,
      "outputs": [
        {
          "output_type": "stream",
          "text": [
            "Duration: 32.0s Start: 1126259447 End: 1126259479\n"
          ],
          "name": "stdout"
        },
        {
          "output_type": "display_data",
          "data": {
            "image/png": "[encoded data removed]",
            "text/plain": [
              "<Figure size 432x288 with 1 Axes>"
            ]
          },
          "metadata": {
            "tags": [],
            "needs_background": "light"
          }
        }
      ]
    },
    {
      "cell_type": "markdown",
      "metadata": {
        "id": "ry7ZEMZScEjF"
      },
      "source": [
        "#### Getting Data from S5 / S6 / O1\n",
        "\n",
        "In this section we show how to read data from the bulk data release by LIGO. This currently covers the periods of teh S5, S6, and O1 analyses."
      ]
    },
    {
      "cell_type": "code",
      "metadata": {
        "id": "v7k7U-e1cEjF",
        "outputId": "b089828a-626c-42ae-9f2b-10eed27ae09d",
        "colab": {
          "base_uri": "https://localhost:8080/"
        }
      },
      "source": [
        "from pycbc.frame import query_and_read_frame\n",
        "\n",
        "# Retrieve the approximate time of the merger\n",
        "m = catalog.Merger(\"GW150914\")\n",
        "start = m.time - 32\n",
        "end = m.time + 32\n",
        "\n",
        "# Get 64 seconds of data roughly around GW150914\n",
        "# The start / end time may be any in the publicly available data sets.\n",
        "ts = query_and_read_frame('LOSC', 'H1:LOSC-STRAIN', start, end)\n",
        "\n",
        "# If we wanted to retreive data from the Livingston detector\n",
        "# we'd use the following command instead\n",
        "# ts = query_and_read_frame('LOSC', 'L1:LOSC-STRAIN', start, end)\n",
        "\n",
        "print(\"Returned {}s of data at {}Hz\".format(ts.duration, ts.sample_rate))"
      ],
      "execution_count": 6,
      "outputs": [
        {
          "output_type": "stream",
          "text": [
            "Returned 64.0s of data at 4096.0Hz\n"
          ],
          "name": "stdout"
        }
      ]
    },
    {
      "cell_type": "markdown",
      "metadata": {
        "id": "qdVnmAzZcEjG"
      },
      "source": [
        "#### Directly Reading gravitational-wave Frame Files\n",
        "\n",
        "If you store LIGO data on your own computer then you can directly read in the data as follows."
      ]
    },
    {
      "cell_type": "code",
      "metadata": {
        "id": "AaG3sSC9cEjG",
        "outputId": "78e0ab53-88fc-4c6f-ec72-9008705e52a3",
        "colab": {
          "base_uri": "https://localhost:8080/"
        }
      },
      "source": [
        "# We'll first download some data for this demonstration\n",
        "!curl -O -J -L https://losc.ligo.org/s/events/LVT151012/H-H1_LOSC_4_V2-1128678884-32.gwf"
      ],
      "execution_count": 7,
      "outputs": [
        {
          "output_type": "stream",
          "text": [
            "  % Total    % Received % Xferd  Average Speed   Time    Time     Time  Current\n",
            "                                 Dload  Upload   Total   Spent    Left  Speed\n",
            "100   266  100   266    0     0   1072      0 --:--:-- --:--:-- --:--:--  1072\n",
            "100 1004k  100 1004k    0     0  1243k      0 --:--:-- --:--:-- --:--:-- 8117k\n"
          ],
          "name": "stdout"
        }
      ]
    },
    {
      "cell_type": "code",
      "metadata": {
        "id": "Qcy41X7YcEjH"
      },
      "source": [
        "from pycbc.frame import read_frame\n",
        "\n",
        "# Read the data directly from the Gravitational-Wave Frame (GWF) file.\n",
        "file_name = \"H-H1_LOSC_4_V2-1128678884-32.gwf\"\n",
        "\n",
        "# LOSC bulk data typically uses the same convention for internal channels names\n",
        "# Strain is typically IFO:LOSC-STRAIN, where IFO can be H1/L1/V1.\n",
        "channel_name = \"H1:LOSC-STRAIN\"\n",
        "\n",
        "start = 1128678884\n",
        "end = start + 32\n",
        "\n",
        "ts = read_frame(file_name, channel_name, start, end)"
      ],
      "execution_count": 8,
      "outputs": []
    },
    {
      "cell_type": "code",
      "metadata": {
        "id": "Jnf85Zu1cEjH"
      },
      "source": [
        ""
      ],
      "execution_count": 8,
      "outputs": []
    }
  ]
}